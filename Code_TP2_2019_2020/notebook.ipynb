{
 "cells": [
  {
   "cell_type": "markdown",
   "metadata": {},
   "source": [
    "# Simulation TP2"
   ]
  },
  {
   "cell_type": "markdown",
   "metadata": {},
   "source": [
    "## Aloha pur\n",
    "\n",
    "- Infinité de sources\n",
    "- Débit d'arrivée $\\lambda$\n",
    "- Toutes les trans sont de même taille (durée d'émission T)\n",
    "- Hypothèses : en cas de collision toutes les trans sont inexploitable\n",
    "\n",
    "Méthode Aloha pur\n",
    "\n",
    "- Pas d'écoute du support\n",
    "- On néglige les erreurs\n",
    "- A la fin de la transmission la station sait s'il y a collision\n",
    "- En cas de collision il y a une attente d\n",
    "\n",
    "$\\Lambda = \\gamma P_{succès} = \\gamma e^{-2 \\gamma T}$\n",
    "\n",
    "$G = \\gamma T = \\rho_0$ charge offerte\n",
    "\n",
    "$\\rho_s = \\Lambda T$\n",
    "\n",
    "Charge offerte de 0.5 => max 0.18\n"
   ]
  },
  {
   "cell_type": "code",
   "execution_count": 20,
   "metadata": {},
   "outputs": [],
   "source": [
    "import numpy as np\n",
    "import matplotlib.pyplot as plt"
   ]
  },
  {
   "cell_type": "markdown",
   "metadata": {},
   "source": [
    "```tcl\n",
    "Mac/Sat/UnslottedAloha set mean_backoff_ 1s ; # mean exponential backoff time(s) TODO:\n",
    "Mac/Sat/UnslottedAloha set rtx_limit_ 3; # max number of retrans. attempted  TODO:\n",
    "Mac/Sat/UnslottedAloha set send_timeout_ 270ms; # resend if send times out TODO: ici ?\n",
    "\n",
    "set opt(qlim)\t\t50\t\t; #TODO:\n",
    "\n",
    "$exp($a) set idle_time_ variable\n",
    "```\n"
   ]
  },
  {
   "cell_type": "code",
   "execution_count": 21,
   "metadata": {},
   "outputs": [
    {
     "data": {
      "text/plain": [
       "Text(0, 0.5, '$\\\\rho_s$')"
      ]
     },
     "execution_count": 21,
     "metadata": {},
     "output_type": "execute_result"
    },
    {
     "data": {
      "image/png": "[encoded data removed]",
      "text/plain": [
       "<Figure size 432x288 with 1 Axes>"
      ]
     },
     "metadata": {
      "needs_background": "light"
     },
     "output_type": "display_data"
    }
   ],
   "source": [
    "rho_0 = np.array([\n",
    "    0.0174910388529732,\n",
    "    0.0143781480977282,\n",
    "    0.00179082786252704,\n",
    "    0.207962751292275,\n",
    "    0.460490191274399,\n",
    "    0.534845334845335,\n",
    "    0.505927647421179,\n",
    "    0.737783351133405,\n",
    "    0.881003924015696,\n",
    "    0.133100395807125,\n",
    "    0.100472238723575,\n",
    "    0.063966063966064,\n",
    "    0.0517743005291238,\n",
    "    0.322011074188261,\n",
    "    0.686672580053221,\n",
    "    0.599944798454357,\n",
    "])\n",
    "\n",
    "rho_s = np.array([\n",
    "    0.0168189528259617,\n",
    "    0.0139493261369187,\n",
    "    0.00177401257743289,\n",
    "    0.123591548239417,\n",
    "    0.125944096714224,\n",
    "    0.126411726411726,\n",
    "    0.129512236097889,\n",
    "    0.125849303397214,\n",
    "    0.126210504842019,\n",
    "    0.100936216851903,\n",
    "    0.0812598633087913,\n",
    "    0.0553308553308553,\n",
    "    0.0460346726665379,\n",
    "    0.12740496588442,\n",
    "    0.126076734690612,\n",
    "    0.126011928333993,\n",
    "])\n",
    "\n",
    "plt.scatter(rho_0, rho_s)\n",
    "plt.grid()\n",
    "plt.xlabel(r'$\\rho_0$')\n",
    "plt.ylabel(r'$\\rho_s$')"
   ]
  },
  {
   "cell_type": "markdown",
   "metadata": {},
   "source": [
    "En faisant varier uniquement la taille max de la file, $\\rho_0$ et $\\rho_s$ ne varient pas sensiblement "
   ]
  },
  {
   "cell_type": "markdown",
   "metadata": {},
   "source": [
    "La modification du temps moyen de backoff exponentiel a un impact conséquent sur les valeurs de charge du système.\n",
    "\n",
    "Pour 1s\n",
    "\n",
    "```\n",
    "99.9999 38496 0.658017537562176 0.476790603232096 5169 0.0812071890906806 0.0831814370432701 585.030585030585 636.720636720637 150.49015049015 0.491425691425691 0.534845334845335 0.126411726411726\n",
    "time #drop %loss avr_%drop #coll %col avr_%coll thpt_a thpt_o thpt_s rho_a rho_o rho_s\n",
    "```\n",
    "\n",
    "Pour 0.1s\n",
    "\n",
    "```\n",
    "99.9950 22697 0.480004229671143 0.306791737734342 14058 0.22917413843696 0.225322452609815 472.873643682184 613.460673033652 196.7198359918 0.397213860693035 0.515306965348267 0.165244662233112\n",
    "time #drop %loss avr_%drop #coll %col avr_%coll thpt_a thpt_o thpt_s rho_a rho_o rho_s\n",
    "```\n"
   ]
  },
  {
   "cell_type": "code",
   "execution_count": 29,
   "metadata": {},
   "outputs": [
    {
     "data": {
      "text/plain": [
       "(0, 1)"
      ]
     },
     "execution_count": 29,
     "metadata": {},
     "output_type": "execute_result"
    },
    {
     "data": {
      "image/png": "[encoded data removed]",
      "text/plain": [
       "<Figure size 432x288 with 1 Axes>"
      ]
     },
     "metadata": {
      "needs_background": "light"
     },
     "output_type": "display_data"
    }
   ],
   "source": [
    "rho_0s = []\n",
    "rho_ss = []\n",
    "with open('trace_Loss/res.txt', 'r') as f:\n",
    "    for l in f:\n",
    "        rho_0, rho_s = l.split()\n",
    "        rho_0s.append(float(rho_0))\n",
    "        rho_ss.append(float(rho_s))\n",
    "plt.scatter(rho_0s, rho_ss)\n",
    "plt.grid()\n",
    "plt.xlabel(r'$\\rho_0$')\n",
    "plt.ylabel(r'$\\rho_s$')\n",
    "plt.xlim(left=0, right=1)\n"
   ]
  }
 ],
 "metadata": {
  "interpreter": {
   "hash": "31f2aee4e71d21fbe5cf8b01ff0e069b9275f58929596ceb00d14d90e3e16cd6"
  },
  "kernelspec": {
   "display_name": "Python 3.8.10 64-bit",
   "language": "python",
   "name": "python3"
  },
  "language_info": {
   "codemirror_mode": {
    "name": "ipython",
    "version": 3
   },
   "file_extension": ".py",
   "mimetype": "text/x-python",
   "name": "python",
   "nbconvert_exporter": "python",
   "pygments_lexer": "ipython3",
   "version": "3.8.10"
  },
  "orig_nbformat": 4
 },
 "nbformat": 4,
 "nbformat_minor": 2
}
