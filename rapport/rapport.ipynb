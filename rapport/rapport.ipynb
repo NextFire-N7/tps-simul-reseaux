{
 "cells": [
  {
   "cell_type": "markdown",
   "metadata": {},
   "source": [
    "# Simulation de réseaux\n",
    "\n",
    "**Enzo PETIT ‑ Nam VU**\n",
    "\n",
    "2SN-A - 2021-2022\n"
   ]
  },
  {
   "cell_type": "code",
   "execution_count": 8,
   "metadata": {},
   "outputs": [],
   "source": [
    "import numpy as np\n",
    "import matplotlib.pyplot as plt\n",
    "import pandas as pd"
   ]
  },
  {
   "cell_type": "markdown",
   "metadata": {},
   "source": [
    "## Modèles simples de réseaux à commutation de paquets"
   ]
  },
  {
   "cell_type": "markdown",
   "metadata": {},
   "source": [
    "### Simulation de files M/M/1, M/D/1\n",
    "\n",
    "> Avec $\\mu = 33$\n",
    "\n",
    "#### File M/M/1\n",
    "\n",
    "![](img/mm1.png)\n",
    "\n",
    "$E[R]$ est une moyenne sur chaque paquet et elle est alors plus précise que $E[L]$ qui dépend du régime transitoire et donc de la durée de simulation.\n",
    "\n",
    "#### File M/D/1\n",
    "\n",
    "![](img/md1.png)\n",
    "\n",
    "Les moyennes sont plus faibles que dans la file M/M/1 mais les intervalles de confiance sont tout aussi réduits.\n"
   ]
  },
  {
   "cell_type": "markdown",
   "metadata": {},
   "source": [
    "### Simulation de files de taille finie\n"
   ]
  },
  {
   "cell_type": "markdown",
   "metadata": {},
   "source": [
    "\n",
    "#### File M/M/1/K\n",
    "\n",
    "Avec les paramètres de simulation suivants :\n",
    "\n",
    "```perl\n",
    "$lambda=22.0;\n",
    "$mu=33.0;\n",
    "$duration=1000.0; #sec\n",
    "```\n"
   ]
  },
  {
   "cell_type": "code",
   "execution_count": 9,
   "metadata": {},
   "outputs": [
    {
     "data": {
      "text/plain": [
       "<AxesSubplot:xlabel='Capa. file'>"
      ]
     },
     "execution_count": 9,
     "metadata": {},
     "output_type": "execute_result"
    },
    {
     "data": {
      "image/png": "[encoded data removed]",
      "text/plain": [
       "<Figure size 432x288 with 1 Axes>"
      ]
     },
     "metadata": {
      "needs_background": "light"
     },
     "output_type": "display_data"
    }
   ],
   "source": [
    "df = pd.read_csv('../Code_TP1_2019_2020/MM1K/MM1Klambda22.csv', index_col=0, skiprows=1)\n",
    "df.plot(logy=True, grid=True)"
   ]
  },
  {
   "cell_type": "markdown",
   "metadata": {},
   "source": [
    "On observe que les résultats de la simulation correspondent aux résultats analytiques."
   ]
  },
  {
   "cell_type": "markdown",
   "metadata": {},
   "source": [
    "#### File M/D/1/K\n",
    "\n",
    "<!-- commenter 22 et 23\\\n",
    "decommenter 24\\\n",
    "ligne 46 : `set bytes [expr round ([$pktSize value])]` -> `set bytes [expr round ($pktSize)]`\n",
    "\n",
    "`./rejet.pl > blabla.csv` -->\n",
    "\n",
    "```perl\n",
    "$lambda=20.0;\n",
    "$mu=33.0;\n",
    "$duration=10000.0; #sec\n",
    "```\n"
   ]
  },
  {
   "cell_type": "code",
   "execution_count": 10,
   "metadata": {},
   "outputs": [
    {
     "data": {
      "text/plain": [
       "<AxesSubplot:xlabel='Capa. file'>"
      ]
     },
     "execution_count": 10,
     "metadata": {},
     "output_type": "execute_result"
    },
    {
     "data": {
      "image/png": "[encoded data removed]",
      "text/plain": [
       "<Figure size 432x288 with 1 Axes>"
      ]
     },
     "metadata": {
      "needs_background": "light"
     },
     "output_type": "display_data"
    }
   ],
   "source": [
    "df = pd.read_csv('../Code_TP1_2019_2020/MM1K/MD1Kduration10000.csv', index_col=0, skiprows=1)\n",
    "df.plot(y='Tx simu.', logy=True, grid=True)"
   ]
  },
  {
   "cell_type": "markdown",
   "metadata": {},
   "source": [
    "Cette simulation est imcomplète, il faudrait ralonger la durée de simulation pour espérer saturer davantage la file..."
   ]
  },
  {
   "cell_type": "markdown",
   "metadata": {},
   "source": [
    "### Simulation d’un système composé de deux noeuds de commutation\n",
    "\n",
    "![](img/Capture%20d%E2%80%99%C3%A9cran%202022-06-05%20%C3%A0%2023.06.18.png)\n",
    "\n",
    "En moyenne on attend $\\frac{1}{\\lambda} + \\frac{1}{\\mu}$\n",
    "\n",
    "$E[R] = E[R_1] + E[R_2] = \\frac{(2 - e)}{\\mu^2(1-e)} + \\frac{1}{\\mu}$"
   ]
  },
  {
   "cell_type": "markdown",
   "metadata": {},
   "source": [
    "## Méthodes d’accès Aloha"
   ]
  },
  {
   "cell_type": "markdown",
   "metadata": {},
   "source": [
    "### Aloha pur\n",
    "\n",
    "Hypothèses générales\n",
    "\n",
    "- Infinité de sources\n",
    "- Débit d'arrivée $\\lambda$\n",
    "- Toutes les trans sont de même taille (durée d'émission T)\n",
    "- Hypothèses : en cas de collision toutes les trans sont inexploitable\n",
    "\n",
    "Méthode Aloha pur\n",
    "\n",
    "- Pas d'écoute du support\n",
    "- On néglige les erreurs\n",
    "- A la fin de la transmission la station sait s'il y a collision\n",
    "- En cas de collision il y a une attente d\n",
    "\n",
    "$\\Lambda = \\gamma P_{succès} = \\gamma e^{-2 \\gamma T}$\n",
    "\n",
    "$G = \\gamma T = \\rho_0$ charge offerte\n",
    "\n",
    "$\\rho_s = \\Lambda T$\n",
    "\n",
    "Charge offerte de 0.5 $\\rightarrow$ maximum de 0.18\n"
   ]
  },
  {
   "cell_type": "markdown",
   "metadata": {},
   "source": [
    "#### 1ère simulation\n",
    "\n",
    "On fixe ces valeurs de paramètre et faisons varier `idle_time_`.\n",
    "\n",
    "```tcl\n",
    "# Global configuration parameters for Aloha (also settable in ns-sat.tcl)\n",
    "Mac/Sat/UnslottedAloha set mean_backoff_ 1s ; # mean exponential backoff time(s) TODO:\n",
    "Mac/Sat/UnslottedAloha set rtx_limit_ 3; # max number of retrans. attempted  TODO:\n",
    "Mac/Sat/UnslottedAloha set send_timeout_ 270ms; # resend if send times out TODO: ici ?\n",
    "\n",
    "set opt(qlim)\t\t50\t\t; #TODO:\n",
    "\n",
    "$exp($a) set idle_time_ <variable>\n",
    "```"
   ]
  },
  {
   "cell_type": "code",
   "execution_count": 11,
   "metadata": {},
   "outputs": [
    {
     "data": {
      "text/plain": [
       "Text(0, 0.5, '$\\\\rho_s$')"
      ]
     },
     "execution_count": 11,
     "metadata": {},
     "output_type": "execute_result"
    },
    {
     "data": {
      "image/png": "[encoded data removed]",
      "text/plain": [
       "<Figure size 432x288 with 1 Axes>"
      ]
     },
     "metadata": {
      "needs_background": "light"
     },
     "output_type": "display_data"
    }
   ],
   "source": [
    "rho_0 = np.array([\n",
    "    0.0174910388529732, 0.0143781480977282, 0.00179082786252704,\n",
    "    0.207962751292275, 0.460490191274399, 0.534845334845335, 0.505927647421179,\n",
    "    0.737783351133405, 0.881003924015696, 0.133100395807125, 0.100472238723575,\n",
    "    0.063966063966064, 0.0517743005291238, 0.322011074188261, 0.686672580053221,\n",
    "    0.599944798454357\n",
    "])\n",
    "\n",
    "rho_s = np.array([\n",
    "    0.0168189528259617, 0.0139493261369187, 0.00177401257743289,\n",
    "    0.123591548239417, 0.125944096714224, 0.126411726411726, 0.129512236097889,\n",
    "    0.125849303397214, 0.126210504842019, 0.100936216851903, 0.0812598633087913,\n",
    "    0.0553308553308553, 0.0460346726665379, 0.12740496588442, 0.126076734690612,\n",
    "    0.126011928333993\n",
    "])\n",
    "\n",
    "plt.scatter(rho_0, rho_s)\n",
    "plt.grid()\n",
    "plt.xlabel(r'$\\rho_0$')\n",
    "plt.ylabel(r'$\\rho_s$')"
   ]
  },
  {
   "cell_type": "markdown",
   "metadata": {},
   "source": [
    "En faisant varier uniquement la taille max de la file, on remarque ici que $\\rho_0$ et $\\rho_s$ ne varient pas sensiblement passé un certain seuil.\n",
    "\n",
    "On ne retrouve pas de forme en cloche : la durée du backoff est trop grande et \"lisse\" trop le trafic."
   ]
  },
  {
   "cell_type": "markdown",
   "metadata": {},
   "source": [
    "#### 2e simulation\n",
    "\n",
    "La modification du temps moyen de backoff exponentiel a un impact conséquent sur les valeurs de charge du système.\n",
    "\n",
    "Pour un backoff de 1s\n",
    "\n",
    "```\n",
    "99.9999 38496 0.658017537562176 0.476790603232096 5169 0.0812071890906806 0.0831814370432701 585.030585030585 636.720636720637 150.49015049015 0.491425691425691 0.534845334845335 0.126411726411726\n",
    "time #drop %loss avr_%drop #coll %col avr_%coll thpt_a thpt_o thpt_s rho_a rho_o rho_s\n",
    "```\n",
    "\n",
    "Pour un backoff de 0.1s\n",
    "\n",
    "```\n",
    "99.9950 22697 0.480004229671143 0.306791737734342 14058 0.22917413843696 0.225322452609815 472.873643682184 613.460673033652 196.7198359918 0.397213860693035 0.515306965348267 0.165244662233112\n",
    "time #drop %loss avr_%drop #coll %col avr_%coll thpt_a thpt_o thpt_s rho_a rho_o rho_s\n",
    "```\n"
   ]
  },
  {
   "cell_type": "markdown",
   "metadata": {},
   "source": [
    "#### 3e simulations\n",
    "\n",
    "On utilise les paramètres de simulation suivants :\n",
    "\n",
    "```tcl\n",
    "# Global configuration parameters for Aloha (also settable in ns-sat.tcl)\n",
    "Mac/Sat/UnslottedAloha set mean_backoff_ 0.001s ; # mean exponential backoff time(s) TODO:\n",
    "Mac/Sat/UnslottedAloha set rtx_limit_ 3; # max number of retrans. attempted  TODO:\n",
    "Mac/Sat/UnslottedAloha set send_timeout_ 270ms; # resend if send times out\n",
    "\n",
    "set opt(qlim)\t\t50\t\t; #TODO:\n",
    "\n",
    "$exp($a) set idle_time_ $::env(IDLE)\n",
    "```\n",
    "\n",
    "Nous avons écrit un script pour relever automatiquement et en parallèle des résultats de simulation :"
   ]
  },
  {
   "cell_type": "code",
   "execution_count": 12,
   "metadata": {},
   "outputs": [],
   "source": [
    "import asyncio\n",
    "\n",
    "import numpy as np\n",
    "import matplotlib.pyplot as plt\n",
    "from itertools import chain\n",
    "\n",
    "\n",
    "async def test(idle: float):\n",
    "    outfile = f'/tmp/res{idle}.tr'\n",
    "    proc = await asyncio.create_subprocess_shell(\"ns ../sat-aloha.tcl poisson\",\n",
    "                                                 shell=True,\n",
    "                                                 env={\n",
    "                                                     'IDLE': str(idle),\n",
    "                                                     'OUTFILE': outfile\n",
    "                                                 })\n",
    "    await proc.communicate()\n",
    "    proc = await asyncio.create_subprocess_shell(f\"perl loss.pl {outfile}\",\n",
    "                                                 shell=True,\n",
    "                                                 stdout=asyncio.subprocess.PIPE)\n",
    "    stdout, _ = await proc.communicate()\n",
    "    rho_0, rho_s = stdout.decode().splitlines()[-1].split()[-2:]\n",
    "    print(idle, rho_0, rho_s)\n",
    "    return float(rho_0), float(rho_s)\n",
    "\n",
    "\n",
    "async def main():\n",
    "    res = await asyncio.gather(\n",
    "        *(test(i)\n",
    "          for i in chain(np.arange(0.01, 0.3, 0.01), np.arange(0.3, 5, 0.1))))\n",
    "    with open('res.txt', 'w') as f:\n",
    "        for rho_0, rho_s in res:\n",
    "            print(rho_0, rho_s, file=f)\n",
    "    rho_0s, rho_ss = zip(*res)\n",
    "    plt.scatter(rho_0s, rho_ss)\n",
    "    plt.grid()\n",
    "    plt.xlabel(r'$\\rho_0$')\n",
    "    plt.ylabel(r'$\\rho_s$')\n",
    "    plt.xlim(right=1)\n",
    "    plt.show()\n",
    "\n",
    "# A éxécuter dans Code_TP2_2019_2020/trace_Loss/\n",
    "# asyncio.run(main())"
   ]
  },
  {
   "cell_type": "markdown",
   "metadata": {},
   "source": [
    "Plot avec les résultats précédemment sauvegardés :"
   ]
  },
  {
   "cell_type": "code",
   "execution_count": 13,
   "metadata": {},
   "outputs": [
    {
     "data": {
      "text/plain": [
       "Text(0.5, 1.0, 'backoff 0.001s')"
      ]
     },
     "execution_count": 13,
     "metadata": {},
     "output_type": "execute_result"
    },
    {
     "data": {
      "image/png": "[encoded data removed]",
      "text/plain": [
       "<Figure size 432x288 with 1 Axes>"
      ]
     },
     "metadata": {
      "needs_background": "light"
     },
     "output_type": "display_data"
    }
   ],
   "source": [
    "rho_0s = []\n",
    "rho_ss = []\n",
    "with open('../Code_TP2_2019_2020/trace_Loss/res.txt', 'r') as f:\n",
    "    for l in f:\n",
    "        rho_0, rho_s = l.split()\n",
    "        rho_0s.append(float(rho_0))\n",
    "        rho_ss.append(float(rho_s))\n",
    "plt.scatter(rho_0s, rho_ss)\n",
    "plt.grid()\n",
    "plt.xlabel(r'$\\rho_0$')\n",
    "plt.ylabel(r'$\\rho_s$')\n",
    "plt.xlim(left=0, right=1)\n",
    "plt.title('backoff 0.001s')\n"
   ]
  },
  {
   "cell_type": "markdown",
   "metadata": {},
   "source": [
    "Avec une durée de backoff désormais très réduite on retrouve la forme en cloche attendue. \n",
    "\n",
    "Néanmoins le maximum de 0.18 n'est pas retrouvé à 0.5, indiquant que les paramètres choisis ne sont pas encore optimaux."
   ]
  },
  {
   "cell_type": "markdown",
   "metadata": {},
   "source": [
    "## Etude de la surcharge sur les réseaux d’accès sans fils"
   ]
  },
  {
   "cell_type": "markdown",
   "metadata": {},
   "source": [
    "### Introduction\n",
    "\n",
    "Les réseaux mobiles 4G et 5G utilisent la méthode d'accès Aloha.\n",
    "Aloha est la méthode d'accès la plus triviale : Si je veux transmettre, alors je transmet.\n",
    "Cela est pratique pour des terminaux mobiles ayant une quantité limitée d'énergie, qu'on souhaite donc éviter de dépenser sur la méthode d'accès.\n",
    "\n",
    "Il existe également une version dite \"slotté\", où l'on ne peut transmettre qu'à certains intervalles de temps (donné par un autre canal du réseau). Cette version présente un meilleur débit que l'Aloha classique : \n",
    "\n",
    "![Aloha pur vs Aloha slotté](img/Comparaison_Aloha.png)\n"
   ]
  },
  {
   "cell_type": "markdown",
   "metadata": {},
   "source": [
    "### Modélisation simple d’un réseau d’accès 4G"
   ]
  },
  {
   "cell_type": "markdown",
   "metadata": {},
   "source": [
    "#### Abstraction couche physique\n",
    "\n",
    "L'on considère un réseau où les utilisateurs emettent à une puissance suffisante pour être entendus par le point d'accès (l'eNB). \n",
    "L'on considère la méthode d'Aloha slotté (période $t_{slot}$), possédant $N_{codes}$ (= 54 ici) canaux orthogonaux.\n",
    "\n",
    "L'on considère que chaque utilisateur choisi aléatoirement un canal parmis ceux disponibles. Alors chaque canal se comporte indépendamment des autres, avec une charge normalisée par le nombre de canaux."
   ]
  },
  {
   "cell_type": "markdown",
   "metadata": {},
   "source": [
    "#### Abstraction couche MAC\n",
    "\n",
    "Pour faciliter le traitement analytique, on va également supposer des contraintes de temps assez fortes sur les communications entre les terminaux et l'eNB. En reprenant les figures du sujet :\n",
    "\n",
    "![Abstraction_MAC](img/Abstraction_MAC.png)"
   ]
  },
  {
   "cell_type": "markdown",
   "metadata": {},
   "source": [
    "#### Analyse des résultats\n",
    "\n",
    "En choisissant $d_{rand} = 0$ (signifiant que les utilisateurs retransmettent instantanément, retirant ainsi toute partie aléatoire), l'on peut retrouver les résultats théoriques calculés précédemment.\n",
    "\n",
    "Pour une charge de 19 utilisateurs en moyenne, l'on trouve que le système est stable :\n",
    "\n",
    "![Charge 19 utilisateurs](img/Aloha_sans_cc_impatient_19.png)\n",
    "\n",
    "Tandis que l'on commence à percevoir une légère instabilité pour 20 utilisateurs moyens:\n",
    "\n",
    "![Charge 20 utilisateurs](img/Aloha_sans_cc_impatient_20.png)\n",
    "\n",
    "Cela peut se retrouve par le calcul : Avec 54 canaux orthogonaux, 19 utilisateurs présentent une charge de $ 19/54=0.355 < 0.36 $. Comme l'on est en dessous de débit maximal d'Aloha slotté, le système reste stable.\n",
    "\n",
    "Cependant, pour 20 utilisateurs, on retrouve une charge de $ 20/54 = 0.37 > 0.36 $ et alors le système est saturé et ne peut plus transmettre de façon optimale. \n"
   ]
  },
  {
   "cell_type": "markdown",
   "metadata": {},
   "source": [
    "### Introduction au contrôle de charge\n",
    "\n",
    "Aloha est une méthode simple, et efficace dans le cas où il y a peut d'usagers.\n",
    "Cependant, cela engendre beaucoup de problèmes dans le cas où le réseau est surchargé : Il devient impossible de communiquer sans collisions.\n",
    "\n",
    "On réalise donc un contrôle de charge : si le réseau devient surchargé ($\\text{nouvelles demandes} > 0.36*N_{codes}$) alors on va introduire de l'attente aléatoire pour les utilisateurs souhaitant se connecter au réseau.\n",
    "Cela se traduit par\n",
    " 1. un tirage aléatoire pour savoirsi l'on peut émettre (tirage inférieur à une proba $p_{accès}$).\n",
    " 2. Si l'on ne peut pas émettre, l'on va attendre un nombre aléatoire de slots,compris entre 1 et une valeur $N_{Slot Barring}$.\n",
    "\n",
    "Cela devrait permettre de lisser le traffic entrant dans le cas d'un \"burst\". Cela n'est pas efficace pour un traffic trop important de façon continue, mais peut suffire pour gérer des situations temporaires.\n",
    "\n",
    "L'on fera donc une simulation où 10 utilisateurs veulent transmettre par slot, puis il y aura une surcharge de $overload$ utilisateurs (en tout) à partir du 100ème slot, puis le système repassera en un régime de 15 utilisateurs à partir du 300ème slot."
   ]
  },
  {
   "cell_type": "markdown",
   "metadata": {},
   "source": [
    "#### Analyse des résultats\n",
    "\n",
    "Tout d'abord, analysons le cas d'une surcharge en absence de controle (25 de surcharge) : \n",
    "\n",
    "![Débit sortant](img/cc_25.png)\n",
    "![Temps de traitement moyen](img/time_cc_25.png)\n",
    "\n",
    "L'on peut voir que le débit réel accepté par le point d'accès diminue fortement avec la surcharge. Le temps moyen de transmssion n'est que peu impacté, mais peu d'utilisateurs peuvent transmettre.\n",
    "\n",
    "Si l'on met en place du controle de charge, l'on obtient des résultats convaincants:\n",
    "\n",
    "![Débit sortant avec CC](img/cc_25_5_02.png)\n",
    "![Temps de traitement avec CC](img/time_cc_25_5_02.png)\n",
    "\n",
    "L'on peut voir ici que le système n'est toujours pas stable.\n",
    "Diminuer la probabilité d'accès permet de pallier à ce problème, mais cela rajoute du délai moyen pour les utilisateurs du réseau:\n",
    "\n",
    "![](img/cc_25_5_01.png)\n",
    "![](img/time_cc_25_5_01.png)\n",
    "\n",
    "Diminuer le $N_{Barring Slots}$ contribue également à l'instabilité : l'on peut se retrouver (toujours avec $p_{accès} = 0.1$) dans une situation équivalent à la première:\n",
    "\n",
    "![](img/cc_25_2_01.png)\n",
    "![](img/time_cc_25_2_01.png)\n",
    "\n",
    "Il est donc nécesaire de trouver un bon équilibre entre ces deux valeurs.\n",
    "\n",
    "Ensuite, l'on remarque que ces principes tiennent toujours pour une surcharge plus élevée:\n",
    "\n",
    "![](img/cc_35_2_005.png)\n",
    "![](img/time_cc_35_2_005.png)\n",
    "\n",
    "Ici l'on trouve un bon compromis entre les deux paramètres pour assurer un système stable.\n",
    "\n",
    "Cependant, il est à noté que le controle de charge entraine toujours:\n",
    " 1. Une stabilisation du débit en sortie si il est bien paramétré.\n",
    " 1. Une augmentation **drastique** du temps de traitement moyen des utilisateurs pendant et même **après la surcharge**. En effet, l'on essaye juste de retrouver un débit stable, mais le réseau est toujours surchargé, le problème est juste transposé ailleurs (en général, le temps de traitement)."
   ]
  },
  {
   "cell_type": "markdown",
   "metadata": {},
   "source": [
    "#### Conclusion\n",
    "\n",
    "Pour conclure, le controle de charge est essentiel pour gérer un grand afflux d'utilisateurs, sans quoi l'on risque de perdre toute possibilité d'accès au réseau. Il faut cependant garder à l'esprit que cela permet de \"lisser la courbe\" et n'est pas miraculeux, et n'est donc pas une solution à une surcharge *permanente* du réseau."
   ]
  }
 ],
 "metadata": {
  "interpreter": {
   "hash": "937a5328fd69dda005e9de1c062fa8abf28fe88545e636b485aca9bdaa930db7"
  },
  "kernelspec": {
   "display_name": "Python 3.10.4 ('.venv': venv)",
   "language": "python",
   "name": "python3"
  },
  "language_info": {
   "codemirror_mode": {
    "name": "ipython",
    "version": 3
   },
   "file_extension": ".py",
   "mimetype": "text/x-python",
   "name": "python",
   "nbconvert_exporter": "python",
   "pygments_lexer": "ipython3",
   "version": "3.10.4"
  },
  "orig_nbformat": 4
 },
 "nbformat": 4,
 "nbformat_minor": 2
}
